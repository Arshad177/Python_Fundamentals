{
 "cells": [
  {
   "cell_type": "code",
   "execution_count": 3,
   "id": "44e1ad0c",
   "metadata": {},
   "outputs": [
    {
     "name": "stdout",
     "output_type": "stream",
     "text": [
      "Heloo Sir\n"
     ]
    }
   ],
   "source": [
    "print(\"Heloo Sir\")"
   ]
  },
  {
   "cell_type": "code",
   "execution_count": 5,
   "id": "4ed6725c",
   "metadata": {},
   "outputs": [
    {
     "name": "stdout",
     "output_type": "stream",
     "text": [
      "This is Arshad from Jeddah, KSA\n"
     ]
    }
   ],
   "source": [
    "print(\"This is Arshad from Jeddah, KSA\")"
   ]
  },
  {
   "cell_type": "code",
   "execution_count": null,
   "id": "24b68ab2",
   "metadata": {},
   "outputs": [],
   "source": []
  }
 ],
 "metadata": {
  "kernelspec": {
   "display_name": "Python 3 (ipykernel)",
   "language": "python",
   "name": "python3"
  },
  "language_info": {
   "codemirror_mode": {
    "name": "ipython",
    "version": 3
   },
   "file_extension": ".py",
   "mimetype": "text/x-python",
   "name": "python",
   "nbconvert_exporter": "python",
   "pygments_lexer": "ipython3",
   "version": "3.9.7"
  }
 },
 "nbformat": 4,
 "nbformat_minor": 5
}
