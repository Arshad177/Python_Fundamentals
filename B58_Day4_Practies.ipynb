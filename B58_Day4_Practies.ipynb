{
 "cells": [
  {
   "cell_type": "code",
   "execution_count": 31,
   "id": "4045c41f",
   "metadata": {},
   "outputs": [
    {
     "name": "stdout",
     "output_type": "stream",
     "text": [
      "Arshad      \n"
     ]
    }
   ],
   "source": [
    "name1= 'Arshad      '\n",
    "name2= '   Hussain'\n",
    "print (name1)"
   ]
  },
  {
   "cell_type": "code",
   "execution_count": 2,
   "id": "e48b40d7",
   "metadata": {},
   "outputs": [
    {
     "name": "stdout",
     "output_type": "stream",
     "text": [
      "     Hussain\n"
     ]
    }
   ],
   "source": [
    "print (name2)"
   ]
  },
  {
   "cell_type": "code",
   "execution_count": 32,
   "id": "14ace008",
   "metadata": {},
   "outputs": [
    {
     "data": {
      "text/plain": [
       "'Arshad      '"
      ]
     },
     "execution_count": 32,
     "metadata": {},
     "output_type": "execute_result"
    }
   ],
   "source": [
    "name1.lstrip()"
   ]
  },
  {
   "cell_type": "code",
   "execution_count": 4,
   "id": "0f85b1aa",
   "metadata": {},
   "outputs": [
    {
     "data": {
      "text/plain": [
       "'Arshad'"
      ]
     },
     "execution_count": 4,
     "metadata": {},
     "output_type": "execute_result"
    }
   ],
   "source": [
    "name1.rstrip()"
   ]
  },
  {
   "cell_type": "code",
   "execution_count": 5,
   "id": "ff258798",
   "metadata": {},
   "outputs": [
    {
     "data": {
      "text/plain": [
       "'     Hussain'"
      ]
     },
     "execution_count": 5,
     "metadata": {},
     "output_type": "execute_result"
    }
   ],
   "source": [
    "name2.rstrip()"
   ]
  },
  {
   "cell_type": "code",
   "execution_count": 6,
   "id": "5e95ef29",
   "metadata": {},
   "outputs": [
    {
     "data": {
      "text/plain": [
       "'Hussain'"
      ]
     },
     "execution_count": 6,
     "metadata": {},
     "output_type": "execute_result"
    }
   ],
   "source": [
    "name2.lstrip()"
   ]
  },
  {
   "cell_type": "code",
   "execution_count": 35,
   "id": "b2ac2f0c",
   "metadata": {},
   "outputs": [],
   "source": [
    "name3 = f\" {name1} {name2}\""
   ]
  },
  {
   "cell_type": "code",
   "execution_count": 38,
   "id": "22927d8d",
   "metadata": {},
   "outputs": [
    {
     "name": "stdout",
     "output_type": "stream",
     "text": [
      " Arshad          Hussain\n"
     ]
    }
   ],
   "source": [
    "print(name3)"
   ]
  },
  {
   "cell_type": "code",
   "execution_count": 48,
   "id": "09a6d274",
   "metadata": {},
   "outputs": [
    {
     "name": "stdout",
     "output_type": "stream",
     "text": [
      "\n",
      "A\n",
      "B\n",
      "C\n",
      "D\n",
      "E\n",
      "F\n",
      "G\n",
      "H\n"
     ]
    }
   ],
   "source": [
    "print(\"\\nA\\nB\\nC\\nD\\nE\\nF\\nG\\nH\")"
   ]
  },
  {
   "cell_type": "code",
   "execution_count": 49,
   "id": "b2bf437d",
   "metadata": {},
   "outputs": [
    {
     "name": "stdout",
     "output_type": "stream",
     "text": [
      "\n",
      "\tA\n",
      "\tB\n",
      "\tC\n",
      "\tD\n",
      "\tE\n",
      "\tF\n",
      "\tG\n",
      "\tH\n"
     ]
    }
   ],
   "source": [
    "print(\"\\n\\tA\\n\\tB\\n\\tC\\n\\tD\\n\\tE\\n\\tF\\n\\tG\\n\\tH\")"
   ]
  },
  {
   "cell_type": "code",
   "execution_count": null,
   "id": "9f5cb2f2",
   "metadata": {},
   "outputs": [],
   "source": []
  }
 ],
 "metadata": {
  "kernelspec": {
   "display_name": "Python 3",
   "language": "python",
   "name": "python3"
  },
  "language_info": {
   "codemirror_mode": {
    "name": "ipython",
    "version": 3
   },
   "file_extension": ".py",
   "mimetype": "text/x-python",
   "name": "python",
   "nbconvert_exporter": "python",
   "pygments_lexer": "ipython3",
   "version": "3.8.8"
  }
 },
 "nbformat": 4,
 "nbformat_minor": 5
}
