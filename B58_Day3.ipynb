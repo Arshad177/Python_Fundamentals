{
 "cells": [
  {
   "cell_type": "code",
   "execution_count": 8,
   "id": "fb1215a8",
   "metadata": {},
   "outputs": [
    {
     "name": "stdout",
     "output_type": "stream",
     "text": [
      "python fundamentals\n"
     ]
    }
   ],
   "source": [
    "class3 = 'python fundamentals'\n",
    "print(class3)"
   ]
  },
  {
   "cell_type": "code",
   "execution_count": 9,
   "id": "62b6f56e",
   "metadata": {},
   "outputs": [
    {
     "name": "stdout",
     "output_type": "stream",
     "text": [
      "Python Fundamentals\n"
     ]
    }
   ],
   "source": [
    "print(class3.title())"
   ]
  },
  {
   "cell_type": "code",
   "execution_count": 10,
   "id": "586ada0d",
   "metadata": {},
   "outputs": [
    {
     "name": "stdout",
     "output_type": "stream",
     "text": [
      "PYTHON FUNDAMENTALS\n"
     ]
    }
   ],
   "source": [
    "print(Class3.upper())"
   ]
  },
  {
   "cell_type": "code",
   "execution_count": 12,
   "id": "e751c72f",
   "metadata": {},
   "outputs": [
    {
     "name": "stdout",
     "output_type": "stream",
     "text": [
      "python fundamentals\n"
     ]
    }
   ],
   "source": [
    "print(class3.lower())"
   ]
  },
  {
   "cell_type": "code",
   "execution_count": null,
   "id": "88bc4ec8",
   "metadata": {},
   "outputs": [],
   "source": []
  }
 ],
 "metadata": {
  "kernelspec": {
   "display_name": "Python 3",
   "language": "python",
   "name": "python3"
  },
  "language_info": {
   "codemirror_mode": {
    "name": "ipython",
    "version": 3
   },
   "file_extension": ".py",
   "mimetype": "text/x-python",
   "name": "python",
   "nbconvert_exporter": "python",
   "pygments_lexer": "ipython3",
   "version": "3.8.8"
  }
 },
 "nbformat": 4,
 "nbformat_minor": 5
}
